{
 "cells": [
  {
   "cell_type": "code",
   "execution_count": 2,
   "id": "50f1ad23",
   "metadata": {},
   "outputs": [
    {
     "data": {
      "text/plain": [
       "'\\n    옵션들:\\n    \\n    index : 반환하는 DataFrame에서 하나 이상의 컬럼을 색인으로 지정할 수 있다.\\n    \\n    자료형 추론과 데이터 변환 : 사용자 정의 값 변환과 비어 있는 값을 위한 사용자 리스트를 포함한다.\\n    \\n    날짜 분석 : 여러 컬럼에 걸쳐 있는 날짜와 시간 정보를 하나의 컬럼에 조합해서 결과에 반영한다.\\n    \\n    반복 : 여러 개의 파일에 걸쳐 있는 자료를 반복적으로 읽어올 수 있다.\\n    \\n    정제되지 않은 데이터 처리 : Row나 꼬리말, 주석 건너뛰기 또는 천 단위마다 쉼표로 구분된 숫자 같은 사소한 것들의 처리를 해준다.\\n    \\n'"
      ]
     },
     "execution_count": 2,
     "metadata": {},
     "output_type": "execute_result"
    }
   ],
   "source": [
    "''' Pandas 파일 파싱 함수\n",
    "\n",
    "    read_csv (쉼표로 구분된 파일)\n",
    "    read_table ('\\t'로 구분된 파일)\n",
    "    read_fwf\n",
    "    read_clipboard (클립보드에 있는 데이터를 읽어오는 read_table 함수, 표를 읽어올 때 유용하다)\n",
    "    read_excel\n",
    "    read_hdf\n",
    "    read_html\n",
    "    read_json\n",
    "    read_msgpack\n",
    "    read_pickle\n",
    "    read_sas\n",
    "    read_sql\n",
    "    read_stata\n",
    "    read_feather\n",
    "'''\n",
    "\n",
    "# 위 함수들은 텍스트 데이터를 DataFrame으로 읽어오기 위한 함수\n",
    "'''\n",
    "    옵션들:\n",
    "    \n",
    "    index : 반환하는 DataFrame에서 하나 이상의 컬럼을 색인으로 지정할 수 있다.\n",
    "    \n",
    "    자료형 추론과 데이터 변환 : 사용자 정의 값 변환과 비어 있는 값을 위한 사용자 리스트를 포함한다.\n",
    "    \n",
    "    날짜 분석 : 여러 컬럼에 걸쳐 있는 날짜와 시간 정보를 하나의 컬럼에 조합해서 결과에 반영한다.\n",
    "    \n",
    "    반복 : 여러 개의 파일에 걸쳐 있는 자료를 반복적으로 읽어올 수 있다.\n",
    "    \n",
    "    정제되지 않은 데이터 처리 : Row나 꼬리말, 주석 건너뛰기 또는 천 단위마다 쉼표로 구분된 숫자 같은 사소한 것들의 처리를 해준다.\n",
    "    \n",
    "'''"
   ]
  },
  {
   "cell_type": "code",
   "execution_count": 3,
   "id": "386fa14c",
   "metadata": {},
   "outputs": [
    {
     "name": "stdout",
     "output_type": "stream",
     "text": [
      "a,b,c,d,message\r",
      "\r\n",
      "1,2,3,4,hello\r",
      "\r\n",
      "5,6,7,8,world\r",
      "\r\n",
      "9,10,11,12,foo"
     ]
    }
   ],
   "source": [
    "import pandas as pd\n",
    "!cat examples/ex1.csv"
   ]
  },
  {
   "cell_type": "code",
   "execution_count": 4,
   "id": "8ff585fe",
   "metadata": {},
   "outputs": [],
   "source": [
    "df = pd.read_csv('examples/ex1.csv')"
   ]
  },
  {
   "cell_type": "code",
   "execution_count": 5,
   "id": "8b18aa12",
   "metadata": {},
   "outputs": [
    {
     "data": {
      "text/html": [
       "<div>\n",
       "<style scoped>\n",
       "    .dataframe tbody tr th:only-of-type {\n",
       "        vertical-align: middle;\n",
       "    }\n",
       "\n",
       "    .dataframe tbody tr th {\n",
       "        vertical-align: top;\n",
       "    }\n",
       "\n",
       "    .dataframe thead th {\n",
       "        text-align: right;\n",
       "    }\n",
       "</style>\n",
       "<table border=\"1\" class=\"dataframe\">\n",
       "  <thead>\n",
       "    <tr style=\"text-align: right;\">\n",
       "      <th></th>\n",
       "      <th>a</th>\n",
       "      <th>b</th>\n",
       "      <th>c</th>\n",
       "      <th>d</th>\n",
       "      <th>message</th>\n",
       "    </tr>\n",
       "  </thead>\n",
       "  <tbody>\n",
       "    <tr>\n",
       "      <th>0</th>\n",
       "      <td>1</td>\n",
       "      <td>2</td>\n",
       "      <td>3</td>\n",
       "      <td>4</td>\n",
       "      <td>hello</td>\n",
       "    </tr>\n",
       "    <tr>\n",
       "      <th>1</th>\n",
       "      <td>5</td>\n",
       "      <td>6</td>\n",
       "      <td>7</td>\n",
       "      <td>8</td>\n",
       "      <td>world</td>\n",
       "    </tr>\n",
       "    <tr>\n",
       "      <th>2</th>\n",
       "      <td>9</td>\n",
       "      <td>10</td>\n",
       "      <td>11</td>\n",
       "      <td>12</td>\n",
       "      <td>foo</td>\n",
       "    </tr>\n",
       "  </tbody>\n",
       "</table>\n",
       "</div>"
      ],
      "text/plain": [
       "   a   b   c   d message\n",
       "0  1   2   3   4   hello\n",
       "1  5   6   7   8   world\n",
       "2  9  10  11  12     foo"
      ]
     },
     "execution_count": 5,
     "metadata": {},
     "output_type": "execute_result"
    }
   ],
   "source": [
    "df"
   ]
  },
  {
   "cell_type": "code",
   "execution_count": 6,
   "id": "fab17b05",
   "metadata": {},
   "outputs": [
    {
     "data": {
      "text/html": [
       "<div>\n",
       "<style scoped>\n",
       "    .dataframe tbody tr th:only-of-type {\n",
       "        vertical-align: middle;\n",
       "    }\n",
       "\n",
       "    .dataframe tbody tr th {\n",
       "        vertical-align: top;\n",
       "    }\n",
       "\n",
       "    .dataframe thead th {\n",
       "        text-align: right;\n",
       "    }\n",
       "</style>\n",
       "<table border=\"1\" class=\"dataframe\">\n",
       "  <thead>\n",
       "    <tr style=\"text-align: right;\">\n",
       "      <th></th>\n",
       "      <th>a</th>\n",
       "      <th>b</th>\n",
       "      <th>c</th>\n",
       "      <th>d</th>\n",
       "      <th>message</th>\n",
       "    </tr>\n",
       "  </thead>\n",
       "  <tbody>\n",
       "    <tr>\n",
       "      <th>0</th>\n",
       "      <td>1</td>\n",
       "      <td>2</td>\n",
       "      <td>3</td>\n",
       "      <td>4</td>\n",
       "      <td>hello</td>\n",
       "    </tr>\n",
       "    <tr>\n",
       "      <th>1</th>\n",
       "      <td>5</td>\n",
       "      <td>6</td>\n",
       "      <td>7</td>\n",
       "      <td>8</td>\n",
       "      <td>world</td>\n",
       "    </tr>\n",
       "    <tr>\n",
       "      <th>2</th>\n",
       "      <td>9</td>\n",
       "      <td>10</td>\n",
       "      <td>11</td>\n",
       "      <td>12</td>\n",
       "      <td>foo</td>\n",
       "    </tr>\n",
       "  </tbody>\n",
       "</table>\n",
       "</div>"
      ],
      "text/plain": [
       "   a   b   c   d message\n",
       "0  1   2   3   4   hello\n",
       "1  5   6   7   8   world\n",
       "2  9  10  11  12     foo"
      ]
     },
     "execution_count": 6,
     "metadata": {},
     "output_type": "execute_result"
    }
   ],
   "source": [
    "pd.read_table('examples/ex1.csv',sep=',')"
   ]
  },
  {
   "cell_type": "code",
   "execution_count": 7,
   "id": "3b5a36c0",
   "metadata": {},
   "outputs": [
    {
     "data": {
      "text/html": [
       "<div>\n",
       "<style scoped>\n",
       "    .dataframe tbody tr th:only-of-type {\n",
       "        vertical-align: middle;\n",
       "    }\n",
       "\n",
       "    .dataframe tbody tr th {\n",
       "        vertical-align: top;\n",
       "    }\n",
       "\n",
       "    .dataframe thead th {\n",
       "        text-align: right;\n",
       "    }\n",
       "</style>\n",
       "<table border=\"1\" class=\"dataframe\">\n",
       "  <thead>\n",
       "    <tr style=\"text-align: right;\">\n",
       "      <th></th>\n",
       "      <th>aa</th>\n",
       "      <th>bb</th>\n",
       "      <th>cc</th>\n",
       "      <th>dd</th>\n",
       "      <th>messages</th>\n",
       "    </tr>\n",
       "  </thead>\n",
       "  <tbody>\n",
       "    <tr>\n",
       "      <th>0</th>\n",
       "      <td>a</td>\n",
       "      <td>b</td>\n",
       "      <td>c</td>\n",
       "      <td>d</td>\n",
       "      <td>message</td>\n",
       "    </tr>\n",
       "    <tr>\n",
       "      <th>1</th>\n",
       "      <td>1</td>\n",
       "      <td>2</td>\n",
       "      <td>3</td>\n",
       "      <td>4</td>\n",
       "      <td>hello</td>\n",
       "    </tr>\n",
       "    <tr>\n",
       "      <th>2</th>\n",
       "      <td>5</td>\n",
       "      <td>6</td>\n",
       "      <td>7</td>\n",
       "      <td>8</td>\n",
       "      <td>world</td>\n",
       "    </tr>\n",
       "    <tr>\n",
       "      <th>3</th>\n",
       "      <td>9</td>\n",
       "      <td>10</td>\n",
       "      <td>11</td>\n",
       "      <td>12</td>\n",
       "      <td>foo</td>\n",
       "    </tr>\n",
       "  </tbody>\n",
       "</table>\n",
       "</div>"
      ],
      "text/plain": [
       "  aa  bb  cc  dd messages\n",
       "0  a   b   c   d  message\n",
       "1  1   2   3   4    hello\n",
       "2  5   6   7   8    world\n",
       "3  9  10  11  12      foo"
      ]
     },
     "execution_count": 7,
     "metadata": {},
     "output_type": "execute_result"
    }
   ],
   "source": [
    "pd.read_csv('examples/ex1.csv',names=['aa','bb','cc','dd','messages']) # 컬럼 이름 지정 가능"
   ]
  },
  {
   "cell_type": "code",
   "execution_count": 8,
   "id": "28157f53",
   "metadata": {},
   "outputs": [
    {
     "ename": "NameError",
     "evalue": "name 'skiprows' is not defined",
     "output_type": "error",
     "traceback": [
      "\u001b[0;31m---------------------------------------------------------------------------\u001b[0m",
      "\u001b[0;31mNameError\u001b[0m                                 Traceback (most recent call last)",
      "\u001b[0;32m/var/folders/53/jkshzfkj36qcg90lpm_0bh8c0000gn/T/ipykernel_1749/224432246.py\u001b[0m in \u001b[0;36m<module>\u001b[0;34m\u001b[0m\n\u001b[0;32m----> 1\u001b[0;31m \u001b[0mpd\u001b[0m\u001b[0;34m.\u001b[0m\u001b[0mread_csv\u001b[0m\u001b[0;34m(\u001b[0m\u001b[0;34m'examples/ex1.csv'\u001b[0m\u001b[0;34m,\u001b[0m \u001b[0mskiprows\u001b[0m\u001b[0;34m[\u001b[0m\u001b[0;36m0\u001b[0m\u001b[0;34m,\u001b[0m\u001b[0;36m1\u001b[0m\u001b[0;34m,\u001b[0m\u001b[0;36m2\u001b[0m\u001b[0;34m]\u001b[0m\u001b[0;34m)\u001b[0m\u001b[0;34m\u001b[0m\u001b[0;34m\u001b[0m\u001b[0m\n\u001b[0m",
      "\u001b[0;31mNameError\u001b[0m: name 'skiprows' is not defined"
     ]
    }
   ],
   "source": [
    "pd.read_csv('examples/ex1.csv', skiprows[0,1,2])"
   ]
  },
  {
   "cell_type": "code",
   "execution_count": 9,
   "id": "6759ab98",
   "metadata": {},
   "outputs": [],
   "source": [
    "result=pd.read_csv('examples/ex1.csv', index_col='message',na_values=['NULL'])"
   ]
  },
  {
   "cell_type": "code",
   "execution_count": 10,
   "id": "9380cbc4",
   "metadata": {},
   "outputs": [
    {
     "data": {
      "text/html": [
       "<div>\n",
       "<style scoped>\n",
       "    .dataframe tbody tr th:only-of-type {\n",
       "        vertical-align: middle;\n",
       "    }\n",
       "\n",
       "    .dataframe tbody tr th {\n",
       "        vertical-align: top;\n",
       "    }\n",
       "\n",
       "    .dataframe thead th {\n",
       "        text-align: right;\n",
       "    }\n",
       "</style>\n",
       "<table border=\"1\" class=\"dataframe\">\n",
       "  <thead>\n",
       "    <tr style=\"text-align: right;\">\n",
       "      <th></th>\n",
       "      <th>a</th>\n",
       "      <th>b</th>\n",
       "      <th>c</th>\n",
       "      <th>d</th>\n",
       "    </tr>\n",
       "    <tr>\n",
       "      <th>message</th>\n",
       "      <th></th>\n",
       "      <th></th>\n",
       "      <th></th>\n",
       "      <th></th>\n",
       "    </tr>\n",
       "  </thead>\n",
       "  <tbody>\n",
       "    <tr>\n",
       "      <th>hello</th>\n",
       "      <td>1</td>\n",
       "      <td>2</td>\n",
       "      <td>3</td>\n",
       "      <td>4</td>\n",
       "    </tr>\n",
       "    <tr>\n",
       "      <th>world</th>\n",
       "      <td>5</td>\n",
       "      <td>6</td>\n",
       "      <td>7</td>\n",
       "      <td>8</td>\n",
       "    </tr>\n",
       "    <tr>\n",
       "      <th>foo</th>\n",
       "      <td>9</td>\n",
       "      <td>10</td>\n",
       "      <td>11</td>\n",
       "      <td>12</td>\n",
       "    </tr>\n",
       "  </tbody>\n",
       "</table>\n",
       "</div>"
      ],
      "text/plain": [
       "         a   b   c   d\n",
       "message               \n",
       "hello    1   2   3   4\n",
       "world    5   6   7   8\n",
       "foo      9  10  11  12"
      ]
     },
     "execution_count": 10,
     "metadata": {},
     "output_type": "execute_result"
    }
   ],
   "source": [
    "result"
   ]
  },
  {
   "cell_type": "code",
   "execution_count": 11,
   "id": "8c4f660a",
   "metadata": {},
   "outputs": [
    {
     "data": {
      "text/html": [
       "<div>\n",
       "<style scoped>\n",
       "    .dataframe tbody tr th:only-of-type {\n",
       "        vertical-align: middle;\n",
       "    }\n",
       "\n",
       "    .dataframe tbody tr th {\n",
       "        vertical-align: top;\n",
       "    }\n",
       "\n",
       "    .dataframe thead th {\n",
       "        text-align: right;\n",
       "    }\n",
       "</style>\n",
       "<table border=\"1\" class=\"dataframe\">\n",
       "  <thead>\n",
       "    <tr style=\"text-align: right;\">\n",
       "      <th></th>\n",
       "      <th>a</th>\n",
       "      <th>b</th>\n",
       "      <th>c</th>\n",
       "      <th>d</th>\n",
       "      <th>message</th>\n",
       "    </tr>\n",
       "  </thead>\n",
       "  <tbody>\n",
       "    <tr>\n",
       "      <th>0</th>\n",
       "      <td>1</td>\n",
       "      <td>2</td>\n",
       "      <td>3</td>\n",
       "      <td>4</td>\n",
       "      <td>hello</td>\n",
       "    </tr>\n",
       "    <tr>\n",
       "      <th>1</th>\n",
       "      <td>5</td>\n",
       "      <td>6</td>\n",
       "      <td>7</td>\n",
       "      <td>8</td>\n",
       "      <td>world</td>\n",
       "    </tr>\n",
       "    <tr>\n",
       "      <th>2</th>\n",
       "      <td>9</td>\n",
       "      <td>10</td>\n",
       "      <td>11</td>\n",
       "      <td>12</td>\n",
       "      <td>NaN</td>\n",
       "    </tr>\n",
       "  </tbody>\n",
       "</table>\n",
       "</div>"
      ],
      "text/plain": [
       "   a   b   c   d message\n",
       "0  1   2   3   4   hello\n",
       "1  5   6   7   8   world\n",
       "2  9  10  11  12     NaN"
      ]
     },
     "execution_count": 11,
     "metadata": {},
     "output_type": "execute_result"
    }
   ],
   "source": [
    "sentinels={'message':['foo','NA'], 'something':['two']}\n",
    "pd.read_csv('examples/ex1.csv', na_values=sentinels)"
   ]
  },
  {
   "cell_type": "code",
   "execution_count": 12,
   "id": "83454778",
   "metadata": {},
   "outputs": [
    {
     "data": {
      "text/plain": [
       "\"\\n    read_csv 와 read_table 함수 인자\\n    \\n    path : 파일 위치\\n    sep 또는 delimiter : 필드를 구분하기 위해 사용할 연속된 문자나 정규 표현식\\n    header : 컬럼 이름으로 사용할 로우 번호 (None으로 지정 가능)\\n    index_col : 계층적 index를 지정할 경우 리스트를 넘길 수 있다.\\n    names : 컬럼 이름으로 사용할 리스트\\n    skiprows : 무시할 행 수 또는 무시할 로우 번호가 담긴 리스트\\n    na_values : NA값으로 처리할 값들의 목록\\n    comment : 주석으로 분류되어 파싱하지 않을 문자 혹은 문자열\\n    parse_dates : 날짜를 datetime으로 변환할지 여부 [1,2,3] 을 넘기면 각각의 컬럼을 변환, \\n                  [[1,3]] 을 넘기면 1,3번 컬럼을 조합해서 하나의 datetime으로 변환\\n    keep_date_col : 여러 컬럼은 datetime으로 변환 했을 경우 컬럼을 남겨둘지 여부\\n    converters : 변환 시 컬럼에 적용할 함수를 지정\\n    dayfirst : 모호한 날짜 형식일 경우 국제 형식으로 간주\\n    date_paerser : 날짜 변환 시 사용할 함수\\n    nrows : 파일의 첫 일부만 읽어올 때 처음 몇 줄을 읽을 것인지 지정\\n    iterator : 파일을 조금씩 읽을 때 사용하도록 TextParser 객체 반환\\n    chunksize : TextParser 객체에서 사용할 한 번에 읽을 파일의 크기\\n    skip_footer : 파일의 끝에서 무시할 라인 수\\n    verbose : 파싱 결과에 대한 정보를 출력 , 누락된 값이 있다면 컬럼 번호를 출력\\n    encoding : 유니코드 인코딩 종류를 지정\\n    squeeze : 컬럼이 하나 뿐이면 Series 객체 반환\\n    thousands : 숫자를 천 단위로 끊을 때 사용할 ',' 나 '.' 같은 구분자\\n    \""
      ]
     },
     "execution_count": 12,
     "metadata": {},
     "output_type": "execute_result"
    }
   ],
   "source": [
    "'''\n",
    "    read_csv 와 read_table 함수 인자\n",
    "    \n",
    "    path : 파일 위치\n",
    "    sep 또는 delimiter : 필드를 구분하기 위해 사용할 연속된 문자나 정규 표현식\n",
    "    header : 컬럼 이름으로 사용할 로우 번호 (None으로 지정 가능)\n",
    "    index_col : 계층적 index를 지정할 경우 리스트를 넘길 수 있다.\n",
    "    names : 컬럼 이름으로 사용할 리스트\n",
    "    skiprows : 무시할 행 수 또는 무시할 로우 번호가 담긴 리스트\n",
    "    na_values : NA값으로 처리할 값들의 목록\n",
    "    comment : 주석으로 분류되어 파싱하지 않을 문자 혹은 문자열\n",
    "    parse_dates : 날짜를 datetime으로 변환할지 여부 [1,2,3] 을 넘기면 각각의 컬럼을 변환, \n",
    "                  [[1,3]] 을 넘기면 1,3번 컬럼을 조합해서 하나의 datetime으로 변환\n",
    "    keep_date_col : 여러 컬럼은 datetime으로 변환 했을 경우 컬럼을 남겨둘지 여부\n",
    "    converters : 변환 시 컬럼에 적용할 함수를 지정\n",
    "    dayfirst : 모호한 날짜 형식일 경우 국제 형식으로 간주\n",
    "    date_paerser : 날짜 변환 시 사용할 함수\n",
    "    nrows : 파일의 첫 일부만 읽어올 때 처음 몇 줄을 읽을 것인지 지정\n",
    "    iterator : 파일을 조금씩 읽을 때 사용하도록 TextParser 객체 반환\n",
    "    chunksize : TextParser 객체에서 사용할 한 번에 읽을 파일의 크기\n",
    "    skip_footer : 파일의 끝에서 무시할 라인 수\n",
    "    verbose : 파싱 결과에 대한 정보를 출력 , 누락된 값이 있다면 컬럼 번호를 출력\n",
    "    encoding : 유니코드 인코딩 종류를 지정\n",
    "    squeeze : 컬럼이 하나 뿐이면 Series 객체 반환\n",
    "    thousands : 숫자를 천 단위로 끊을 때 사용할 ',' 나 '.' 같은 구분자\n",
    "    '''"
   ]
  },
  {
   "cell_type": "code",
   "execution_count": 13,
   "id": "1ac6487e",
   "metadata": {},
   "outputs": [],
   "source": [
    "pd.options.display.max_rows=10"
   ]
  },
  {
   "cell_type": "code",
   "execution_count": 14,
   "id": "7fd526c2",
   "metadata": {},
   "outputs": [
    {
     "data": {
      "text/html": [
       "<div>\n",
       "<style scoped>\n",
       "    .dataframe tbody tr th:only-of-type {\n",
       "        vertical-align: middle;\n",
       "    }\n",
       "\n",
       "    .dataframe tbody tr th {\n",
       "        vertical-align: top;\n",
       "    }\n",
       "\n",
       "    .dataframe thead th {\n",
       "        text-align: right;\n",
       "    }\n",
       "</style>\n",
       "<table border=\"1\" class=\"dataframe\">\n",
       "  <thead>\n",
       "    <tr style=\"text-align: right;\">\n",
       "      <th></th>\n",
       "      <th>a</th>\n",
       "      <th>b</th>\n",
       "      <th>c</th>\n",
       "      <th>d</th>\n",
       "      <th>message</th>\n",
       "    </tr>\n",
       "  </thead>\n",
       "  <tbody>\n",
       "    <tr>\n",
       "      <th>0</th>\n",
       "      <td>1</td>\n",
       "      <td>2</td>\n",
       "      <td>3</td>\n",
       "      <td>4</td>\n",
       "      <td>hello</td>\n",
       "    </tr>\n",
       "    <tr>\n",
       "      <th>1</th>\n",
       "      <td>5</td>\n",
       "      <td>6</td>\n",
       "      <td>7</td>\n",
       "      <td>8</td>\n",
       "      <td>world</td>\n",
       "    </tr>\n",
       "    <tr>\n",
       "      <th>2</th>\n",
       "      <td>9</td>\n",
       "      <td>10</td>\n",
       "      <td>11</td>\n",
       "      <td>12</td>\n",
       "      <td>foo</td>\n",
       "    </tr>\n",
       "  </tbody>\n",
       "</table>\n",
       "</div>"
      ],
      "text/plain": [
       "   a   b   c   d message\n",
       "0  1   2   3   4   hello\n",
       "1  5   6   7   8   world\n",
       "2  9  10  11  12     foo"
      ]
     },
     "execution_count": 14,
     "metadata": {},
     "output_type": "execute_result"
    }
   ],
   "source": [
    "# 텍스트 파일 조금씩 읽어오기\n",
    "\n",
    "result=pd.read_csv('examples/ex1.csv',nrows=10)\n",
    "result"
   ]
  },
  {
   "cell_type": "code",
   "execution_count": 15,
   "id": "39789c8f",
   "metadata": {},
   "outputs": [
    {
     "name": "stdout",
     "output_type": "stream",
     "text": [
      "   a   b   c   d message\n",
      "0  1   2   3   4   hello\n",
      "1  5   6   7   8   world\n",
      "2  9  10  11  12     foo\n"
     ]
    }
   ],
   "source": [
    "chunker=pd.read_csv('examples/ex1.csv',chunksize=10)\n",
    "\n",
    "for piece in chunker:\n",
    "    print(piece)"
   ]
  },
  {
   "cell_type": "code",
   "execution_count": 16,
   "id": "41706cb4",
   "metadata": {},
   "outputs": [],
   "source": [
    "# 데이터를 텍스트 형식으로 기록하기"
   ]
  },
  {
   "cell_type": "code",
   "execution_count": 17,
   "id": "574d669f",
   "metadata": {},
   "outputs": [
    {
     "data": {
      "text/html": [
       "<div>\n",
       "<style scoped>\n",
       "    .dataframe tbody tr th:only-of-type {\n",
       "        vertical-align: middle;\n",
       "    }\n",
       "\n",
       "    .dataframe tbody tr th {\n",
       "        vertical-align: top;\n",
       "    }\n",
       "\n",
       "    .dataframe thead th {\n",
       "        text-align: right;\n",
       "    }\n",
       "</style>\n",
       "<table border=\"1\" class=\"dataframe\">\n",
       "  <thead>\n",
       "    <tr style=\"text-align: right;\">\n",
       "      <th></th>\n",
       "      <th>a</th>\n",
       "      <th>b</th>\n",
       "      <th>c</th>\n",
       "      <th>d</th>\n",
       "      <th>message</th>\n",
       "    </tr>\n",
       "  </thead>\n",
       "  <tbody>\n",
       "    <tr>\n",
       "      <th>0</th>\n",
       "      <td>1</td>\n",
       "      <td>2</td>\n",
       "      <td>3</td>\n",
       "      <td>4</td>\n",
       "      <td>hello</td>\n",
       "    </tr>\n",
       "    <tr>\n",
       "      <th>1</th>\n",
       "      <td>5</td>\n",
       "      <td>6</td>\n",
       "      <td>7</td>\n",
       "      <td>8</td>\n",
       "      <td>world</td>\n",
       "    </tr>\n",
       "    <tr>\n",
       "      <th>2</th>\n",
       "      <td>9</td>\n",
       "      <td>10</td>\n",
       "      <td>11</td>\n",
       "      <td>12</td>\n",
       "      <td>foo</td>\n",
       "    </tr>\n",
       "  </tbody>\n",
       "</table>\n",
       "</div>"
      ],
      "text/plain": [
       "   a   b   c   d message\n",
       "0  1   2   3   4   hello\n",
       "1  5   6   7   8   world\n",
       "2  9  10  11  12     foo"
      ]
     },
     "execution_count": 17,
     "metadata": {},
     "output_type": "execute_result"
    }
   ],
   "source": [
    "data=pd.read_csv('examples/ex1.csv')\n",
    "data"
   ]
  },
  {
   "cell_type": "code",
   "execution_count": 18,
   "id": "3c672369",
   "metadata": {},
   "outputs": [],
   "source": [
    "data.to_csv('examples/out.csv')"
   ]
  },
  {
   "cell_type": "code",
   "execution_count": 19,
   "id": "fe67465d",
   "metadata": {},
   "outputs": [
    {
     "name": "stdout",
     "output_type": "stream",
     "text": [
      "1|2|3|4|hello\n",
      "5|6|7|8|world\n",
      "9|10|11|12|foo\n"
     ]
    }
   ],
   "source": [
    "import sys\n",
    "data.to_csv(sys.stdout,sep='|',na_rep='NULL',index=False, header=None)"
   ]
  },
  {
   "cell_type": "code",
   "execution_count": 20,
   "id": "903d1add",
   "metadata": {},
   "outputs": [],
   "source": [
    "# 구분자 형식 다루기"
   ]
  },
  {
   "cell_type": "code",
   "execution_count": 21,
   "id": "1ea1f4de",
   "metadata": {},
   "outputs": [
    {
     "name": "stdout",
     "output_type": "stream",
     "text": [
      "['a', 'b', 'c', 'd', 'message']\n",
      "['1', '2', '3', '4', 'hello']\n",
      "['5', '6', '7', '8', 'world']\n",
      "['9', '10', '11', '12', 'foo']\n"
     ]
    }
   ],
   "source": [
    "# 잘못된 라인이 포함되어 있는 데이터를 전달받는 경우\n",
    "# 구분자가 한 글자인 파일은 파이썬 내장 csv 모듈 사용 가능\n",
    "import csv\n",
    "f=open('examples/ex1.csv')\n",
    "reader=csv.reader(f)\n",
    "for line in reader:\n",
    "    print(line)"
   ]
  },
  {
   "cell_type": "code",
   "execution_count": 22,
   "id": "38f839e2",
   "metadata": {},
   "outputs": [
    {
     "ename": "ValueError",
     "evalue": "I/O operation on closed file.",
     "output_type": "error",
     "traceback": [
      "\u001b[0;31m---------------------------------------------------------------------------\u001b[0m",
      "\u001b[0;31mValueError\u001b[0m                                Traceback (most recent call last)",
      "\u001b[0;32m/var/folders/53/jkshzfkj36qcg90lpm_0bh8c0000gn/T/ipykernel_1749/3012825052.py\u001b[0m in \u001b[0;36m<module>\u001b[0;34m\u001b[0m\n\u001b[1;32m     12\u001b[0m     \u001b[0mquoting\u001b[0m\u001b[0;34m=\u001b[0m\u001b[0mcsv\u001b[0m\u001b[0;34m.\u001b[0m\u001b[0mQUOTE_MINIMAL\u001b[0m\u001b[0;34m\u001b[0m\u001b[0;34m\u001b[0m\u001b[0m\n\u001b[1;32m     13\u001b[0m \u001b[0;34m\u001b[0m\u001b[0m\n\u001b[0;32m---> 14\u001b[0;31m \u001b[0mreader\u001b[0m\u001b[0;34m=\u001b[0m\u001b[0mcsv\u001b[0m\u001b[0;34m.\u001b[0m\u001b[0mreader\u001b[0m\u001b[0;34m(\u001b[0m\u001b[0mf\u001b[0m\u001b[0;34m,\u001b[0m\u001b[0mdialect\u001b[0m\u001b[0;34m=\u001b[0m\u001b[0mmy_dialect\u001b[0m\u001b[0;34m)\u001b[0m\u001b[0;34m\u001b[0m\u001b[0;34m\u001b[0m\u001b[0m\n\u001b[0m",
      "\u001b[0;31mValueError\u001b[0m: I/O operation on closed file."
     ]
    }
   ],
   "source": [
    "with open('examples/ex1.csv') as f:\n",
    "    lines=list(csv.reader(f))\n",
    "header, values=lines[0],lines[1:] # 헤더와 데이터 구분\n",
    "\n",
    "data_dict={h: v for h,v in zip(header,zip(*values))} # 로우를 컬럼으로 전치해주는 zip(*values)를 이용해서 데이터 컬럼 사전 만들기\n",
    "data_dict\n",
    "# 다양한 구분자, 문자열을 둘러싸는 방법, 개행 문자 같은 것들은 csv.Dialect를 상속받아 새로운 클래스를 정의해서 해결할 수 있다.\n",
    "class my_dialect(csv.Dialect):\n",
    "    lineterminator='\\n'\n",
    "    delimiter=';'\n",
    "    quotechar='\"'\n",
    "    quoting=csv.QUOTE_MINIMAL\n",
    "    \n",
    "reader=csv.reader(f,dialect=my_dialect)"
   ]
  },
  {
   "cell_type": "code",
   "execution_count": 23,
   "id": "31e13e1f",
   "metadata": {},
   "outputs": [
    {
     "ename": "ValueError",
     "evalue": "I/O operation on closed file.",
     "output_type": "error",
     "traceback": [
      "\u001b[0;31m---------------------------------------------------------------------------\u001b[0m",
      "\u001b[0;31mValueError\u001b[0m                                Traceback (most recent call last)",
      "\u001b[0;32m/var/folders/53/jkshzfkj36qcg90lpm_0bh8c0000gn/T/ipykernel_1749/4070980653.py\u001b[0m in \u001b[0;36m<module>\u001b[0;34m\u001b[0m\n\u001b[0;32m----> 1\u001b[0;31m \u001b[0mreader\u001b[0m\u001b[0;34m=\u001b[0m\u001b[0mcsv\u001b[0m\u001b[0;34m.\u001b[0m\u001b[0mreader\u001b[0m\u001b[0;34m(\u001b[0m\u001b[0mf\u001b[0m\u001b[0;34m,\u001b[0m\u001b[0mdelimiter\u001b[0m\u001b[0;34m=\u001b[0m\u001b[0;34m'|'\u001b[0m\u001b[0;34m)\u001b[0m \u001b[0;31m# 키워드로 csv 파일의 특징을 지정해서 전달해도 된다.\u001b[0m\u001b[0;34m\u001b[0m\u001b[0;34m\u001b[0m\u001b[0m\n\u001b[0m",
      "\u001b[0;31mValueError\u001b[0m: I/O operation on closed file."
     ]
    }
   ],
   "source": [
    "reader=csv.reader(f,delimiter='|') # 키워드로 csv 파일의 특징을 지정해서 전달해도 된다."
   ]
  },
  {
   "cell_type": "code",
   "execution_count": 24,
   "id": "ec68e119",
   "metadata": {},
   "outputs": [
    {
     "data": {
      "text/plain": [
       "'\\n    csv 관련 옵션\\n    \\n    delimiter : 구분자, 기본값은 \\',\\'\\n    lineterminator : 파일을 저장할 때 사용할 개행 문자. 기본값은 \\'\\r\\n\\'\\n    quotechar : 각 필드에서 값을 둘러싸고 있는 문자. 기본값은 \\'\"\\'\\n    quoting : 값을 읽거나 쓸 때 둘러쌀 컨벤션\\n    skipinitialspace : 구분자 뒤에 있는 공백 문자를 무시할지 여부\\n    doublequote : 값을 둘러싸는 문자가 필드 내에 존재할 경우 처리 여부\\n    escapechar : quoting이 csv.QUOTE_NONE 일 때 값에 구분자와 같은 문자가 있을 경우 구별할 수 있도록 해주는 이스케이프 문자\\n'"
      ]
     },
     "execution_count": 24,
     "metadata": {},
     "output_type": "execute_result"
    }
   ],
   "source": [
    "'''\n",
    "    csv 관련 옵션\n",
    "    \n",
    "    delimiter : 구분자, 기본값은 ','\n",
    "    lineterminator : 파일을 저장할 때 사용할 개행 문자. 기본값은 '\\r\\n'\n",
    "    quotechar : 각 필드에서 값을 둘러싸고 있는 문자. 기본값은 '\"'\n",
    "    quoting : 값을 읽거나 쓸 때 둘러쌀 컨벤션\n",
    "    skipinitialspace : 구분자 뒤에 있는 공백 문자를 무시할지 여부\n",
    "    doublequote : 값을 둘러싸는 문자가 필드 내에 존재할 경우 처리 여부\n",
    "    escapechar : quoting이 csv.QUOTE_NONE 일 때 값에 구분자와 같은 문자가 있을 경우 구별할 수 있도록 해주는 이스케이프 문자\n",
    "'''"
   ]
  },
  {
   "cell_type": "code",
   "execution_count": 25,
   "id": "c2574f17",
   "metadata": {},
   "outputs": [],
   "source": [
    "# JSON 데이터 (JavaScript Object Notation) : 웹 브라우저와 다른 애플리케이션이 http 요청으로 데이터를 보낼 때 사용하는 표준 파일 형식\n",
    "# csv 같은 표 형식의 텍스트보다 좀 더 유연한 데이터 형식이다.\n",
    "obj=\"\"\"\n",
    "{\"name\":\"Wes\",\n",
    " \"places_lived\": [\"United States\", \"Spain\", \"Germany\"],\n",
    " \"pet\": null,\n",
    " \"siblings\": [{\"name\": \"Scott\", \"age\": 30, \"pets\": [\"Zeus\", \"Zuko\"]},\n",
    "              {\"name\": \"Katie\", \"age\": 38,\n",
    "               \"pets\": [\"Sixes\", \"Stache\", \"Cisco\"]}]\n",
    "}\n",
    "\"\"\""
   ]
  },
  {
   "cell_type": "code",
   "execution_count": 26,
   "id": "81fa3ceb",
   "metadata": {},
   "outputs": [],
   "source": [
    "import json # JSON 문자열을 파이썬 형태로 변환하기 위해서는 json.loads를 사용한다."
   ]
  },
  {
   "cell_type": "code",
   "execution_count": 27,
   "id": "27168cd8",
   "metadata": {},
   "outputs": [
    {
     "data": {
      "text/plain": [
       "{'name': 'Wes',\n",
       " 'places_lived': ['United States', 'Spain', 'Germany'],\n",
       " 'pet': None,\n",
       " 'siblings': [{'name': 'Scott', 'age': 30, 'pets': ['Zeus', 'Zuko']},\n",
       "  {'name': 'Katie', 'age': 38, 'pets': ['Sixes', 'Stache', 'Cisco']}]}"
      ]
     },
     "execution_count": 27,
     "metadata": {},
     "output_type": "execute_result"
    }
   ],
   "source": [
    "result=json.loads(obj)\n",
    "result"
   ]
  },
  {
   "cell_type": "code",
   "execution_count": 28,
   "id": "7a2c4c75",
   "metadata": {},
   "outputs": [],
   "source": [
    "asjson=json.dumps(result) # dumps는 파이썬 객체를 json 형태로 변환한다."
   ]
  },
  {
   "cell_type": "code",
   "execution_count": 29,
   "id": "bff40b54",
   "metadata": {},
   "outputs": [
    {
     "data": {
      "text/html": [
       "<div>\n",
       "<style scoped>\n",
       "    .dataframe tbody tr th:only-of-type {\n",
       "        vertical-align: middle;\n",
       "    }\n",
       "\n",
       "    .dataframe tbody tr th {\n",
       "        vertical-align: top;\n",
       "    }\n",
       "\n",
       "    .dataframe thead th {\n",
       "        text-align: right;\n",
       "    }\n",
       "</style>\n",
       "<table border=\"1\" class=\"dataframe\">\n",
       "  <thead>\n",
       "    <tr style=\"text-align: right;\">\n",
       "      <th></th>\n",
       "      <th>name</th>\n",
       "      <th>age</th>\n",
       "    </tr>\n",
       "  </thead>\n",
       "  <tbody>\n",
       "    <tr>\n",
       "      <th>0</th>\n",
       "      <td>Scott</td>\n",
       "      <td>30</td>\n",
       "    </tr>\n",
       "    <tr>\n",
       "      <th>1</th>\n",
       "      <td>Katie</td>\n",
       "      <td>38</td>\n",
       "    </tr>\n",
       "  </tbody>\n",
       "</table>\n",
       "</div>"
      ],
      "text/plain": [
       "    name  age\n",
       "0  Scott   30\n",
       "1  Katie   38"
      ]
     },
     "execution_count": 29,
     "metadata": {},
     "output_type": "execute_result"
    }
   ],
   "source": [
    "siblings=pd.DataFrame(result['siblings'], columns=['name','age'])\n",
    "siblings"
   ]
  }
 ],
 "metadata": {
  "kernelspec": {
   "display_name": "Python 3 (ipykernel)",
   "language": "python",
   "name": "python3"
  },
  "language_info": {
   "codemirror_mode": {
    "name": "ipython",
    "version": 3
   },
   "file_extension": ".py",
   "mimetype": "text/x-python",
   "name": "python",
   "nbconvert_exporter": "python",
   "pygments_lexer": "ipython3",
   "version": "3.9.7"
  }
 },
 "nbformat": 4,
 "nbformat_minor": 5
}
